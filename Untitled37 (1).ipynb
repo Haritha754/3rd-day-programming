{
  "nbformat": 4,
  "nbformat_minor": 0,
  "metadata": {
    "colab": {
      "provenance": []
    },
    "kernelspec": {
      "name": "python3",
      "display_name": "Python 3"
    },
    "language_info": {
      "name": "python"
    }
  },
  "cells": [
    {
      "cell_type": "markdown",
      "source": [
        " Operation Choices\n",
        "Write a function OperationChoices(c, a, b) which will accept three\n",
        "integers as an argument, and the function will return:\n",
        "(a + b) if the value of c=1.\n",
        "(a – b) if the value of c=2.\n",
        "(a * b) if the value of c=3.\n",
        "(a / b) if the value of c=4.\n",
        "Sample Test Case:\n",
        "Input:\n",
        "2\n",
        "15\n",
        "20\n",
        "Output:\n",
        "-5"
      ],
      "metadata": {
        "id": "Cczo-SEB8sGj"
      }
    },
    {
      "cell_type": "code",
      "source": [
        "def OperationChoices(c, a, b):\n",
        "    if c == 1:\n",
        "        return a + b\n",
        "    elif c == 2:\n",
        "        return a - b\n",
        "    elif c == 3:\n",
        "        return a * b\n",
        "    elif c == 4:\n",
        "        return a / b\n",
        "    else:\n",
        "        return \"Invalid operation\"\n",
        "\n",
        "# Sample Test Case\n",
        "c = 2\n",
        "a = 15\n",
        "b = 20\n",
        "print(OperationChoices(c, a, b))  # Output: -5"
      ],
      "metadata": {
        "colab": {
          "base_uri": "https://localhost:8080/"
        },
        "id": "0nyBiqAQ8zOo",
        "outputId": "b16a1fc7-b62c-4347-f2af-f897bf6bad02"
      },
      "execution_count": 5,
      "outputs": [
        {
          "output_type": "stream",
          "name": "stdout",
          "text": [
            "-5\n"
          ]
        }
      ]
    },
    {
      "cell_type": "markdown",
      "source": [
        "2) Difference Of Sum\n",
        "Write a function differenceofSum(a,b) which will take two integers as\n",
        "an argument. You’ve to obtain the total of all the integers ranging from\n",
        "1 to n (both inclusive) that are not divisible by b. You should also return\n",
        "the distinction between the sum of the integers which are not divisible\n",
        "by b with the sum of the integers divisible by b?\n",
        "Consider: a and b are greater than 0. i.e a>0 and b>0. And their sum\n",
        "should lies between the integral range.\n",
        "Sample Test Case 1:\n",
        "Input:\n",
        "a = 6 and b = 30\n",
        "Output:\n",
        "285"
      ],
      "metadata": {
        "id": "g824nd7h85G4"
      }
    },
    {
      "cell_type": "code",
      "source": [
        "def differenceofSum(a, b):\n",
        "    sum_not_divisible = 0\n",
        "    sum_divisible = 0\n",
        "\n",
        "    for i in range(1, a + 1):\n",
        "        if i % b == 0:\n",
        "            sum_divisible += i\n",
        "        else:\n",
        "            sum_not_divisible += i\n",
        "\n",
        "    return sum_not_divisible - sum_divisible\n",
        "\n",
        "# Sample Test Case\n",
        "a = 6\n",
        "b = 30\n",
        "print(differenceofSum(a, b))  # Output: 285"
      ],
      "metadata": {
        "colab": {
          "base_uri": "https://localhost:8080/"
        },
        "id": "F3Fm80BS9FQU",
        "outputId": "fef9d711-0c70-47dc-b970-4f51449e5677"
      },
      "execution_count": 6,
      "outputs": [
        {
          "output_type": "stream",
          "name": "stdout",
          "text": [
            "21\n"
          ]
        }
      ]
    },
    {
      "cell_type": "markdown",
      "source": [
        "3) Anagram Strings\n",
        "Write a function to check whether the given strings are anagrams or\n",
        "not. If the given strings are anagram then return ‘yes’ otherwise return\n",
        "‘no’?\n",
        "Sample Test Case 1:\n",
        "Input:\n",
        "1st: learn\n",
        "2nd: simple\n",
        "Output:\n",
        "no"
      ],
      "metadata": {
        "id": "kj00gZvi9aXW"
      }
    },
    {
      "cell_type": "code",
      "source": [
        "def are_anagrams(str1, str2):\n",
        "    # Convert both strings to lowercase and sort their characters\n",
        "    sorted_str1 = sorted(str1.lower())\n",
        "    sorted_str2 = sorted(str2.lower())\n",
        "\n",
        "    # Compare the sorted strings\n",
        "    if sorted_str1 == sorted_str2:\n",
        "        return 'yes'\n",
        "    else:\n",
        "        return 'no'\n",
        "\n",
        "# Sample Test Case\n",
        "str1 = \"learn\"\n",
        "str2 = \"simple\"\n",
        "print(are_anagrams(str1, str2))  # Output: no"
      ],
      "metadata": {
        "colab": {
          "base_uri": "https://localhost:8080/"
        },
        "id": "pG2DmoHs9fTk",
        "outputId": "9180a02a-efe2-445b-ab02-6c8e412edd5f"
      },
      "execution_count": 7,
      "outputs": [
        {
          "output_type": "stream",
          "name": "stdout",
          "text": [
            "no\n"
          ]
        }
      ]
    },
    {
      "cell_type": "markdown",
      "source": [
        "4) Product Small Pair\n",
        "Write a function Productsmallpair(sum, arr) which will accept the two\n",
        "integers sum and arr. These two integers will be used to find the arr(j)\n",
        "and arr(k) where k is not equal to j.arr(j) and arr(k). k != j.arr(j) and\n",
        "arr(k) should be the smallest elements from the array.\n",
        "Rules:\n",
        "If the value of n<2 or empty, then return -1.\n",
        "If these pairs are not found then return the value as 0.\n",
        "You should make sure that all the values are between the range of\n",
        "integers.\n",
        "Sample Test Case 1\n",
        "Input:\n",
        "sum: 9\n",
        "arr: 5 4 2 3 9 1 7\n",
        "Output:\n",
        "2"
      ],
      "metadata": {
        "id": "ymOYCOTf9nU9"
      }
    },
    {
      "cell_type": "code",
      "source": [
        "def Productsmallpair(sum, arr):\n",
        "    if len(arr) < 2:\n",
        "        return -1\n",
        "    arr.sort()\n",
        "    return arr[0] * arr[1] if arr[0] + arr[1] <= sum else 0\n",
        "\n",
        "# Sample Test Case\n",
        "sum_value = 9\n",
        "arr = [5, 4, 2, 3, 9, 1, 7]\n",
        "print(Productsmallpair(sum_value, arr))  # Output: 2"
      ],
      "metadata": {
        "colab": {
          "base_uri": "https://localhost:8080/"
        },
        "id": "aAj80pfh90mZ",
        "outputId": "d81d30de-8c62-4753-9b00-f5a45d1c6888"
      },
      "execution_count": 8,
      "outputs": [
        {
          "output_type": "stream",
          "name": "stdout",
          "text": [
            "2\n"
          ]
        }
      ]
    }
  ]
}